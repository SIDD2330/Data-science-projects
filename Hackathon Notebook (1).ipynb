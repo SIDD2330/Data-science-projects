{
 "cells": [
  {
   "cell_type": "markdown",
   "id": "4e42b93e-9027-4659-9f83-f670de51b764",
   "metadata": {},
   "source": [
    "## Hackathon notebook\n",
    "\n",
    "#### I did many things which were not fruitful so in the end I deleted everything that was not giving +ve result (as the notebook became really messy) and focused on what was working\n",
    "\n",
    "Things that I tried:\n",
    "- Dropping all the rows with null values\n",
    "- Imputing null values with mean, mode, median\n",
    "- Scaling the dataset\n",
    "- Removing the outliers\n",
    "- Manually mapping the categories instead of using OneHotEncoder or get_dummies\n",
    "- Trying with and without SMOTE\n",
    "- Trying with and without stratify in train_test_split\n",
    "- Tried different algorithms"
   ]
  },
  {
   "cell_type": "code",
   "execution_count": null,
   "id": "4f2ce38f-bf73-42ae-9833-fce072b70589",
   "metadata": {},
   "outputs": [],
   "source": [
    "import numpy as np\n",
    "import pandas as pd\n",
    "import matplotlib.pyplot as plt\n",
    "import seaborn as sns\n",
    "%matplotlib inline\n",
    "\n",
    "import warnings\n",
    "warnings.filterwarnings('ignore')\n",
    "pd.options.display.max_columns = 100\n",
    "pd.options.display.max_rows = 1000\n",
    "pd.options.display.max_colwidth = 1000\n",
    "np.set_printoptions(linewidth=500)\n",
    "\n",
    "from sklearn.model_selection import train_test_split\n",
    "from sklearn import preprocessing\n",
    "from sklearn.model_selection import train_test_split, cross_val_score,  RandomizedSearchCV\n",
    "from sklearn.metrics import accuracy_score\n",
    "from sklearn.ensemble import RandomForestClassifier, ExtraTreesClassifier, BaggingClassifier, GradientBoostingClassifier\n",
    "from lightgbm import LGBMClassifier\n",
    "from xgboost import XGBClassifier"
   ]
  },
  {
   "cell_type": "code",
   "execution_count": null,
   "id": "8c09f858-7a79-40d8-80ce-03a527e5f372",
   "metadata": {},
   "outputs": [],
   "source": [
    "# Loaded the dataset\n",
    "survey_train = pd.read_csv(r\"D:\\Jupyter\\Shinkansen\\Surveydata_train.csv\")\n",
    "travel_train = pd.read_csv(r\"D:\\Jupyter\\Shinkansen\\Traveldata_train.csv\")\n",
    "survey_test = pd.read_csv(r\"D:\\Jupyter\\Shinkansen\\Surveydata_test.csv\")\n",
    "travel_test = pd.read_csv(r\"D:\\Jupyter\\Shinkansen\\Traveldata_test.csv\")\n",
    "\n",
    "# Merged the two sets\n",
    "train1 = pd.merge(travel_train, survey_train, on=\"ID\")\n",
    "test1 = pd.merge(travel_test, survey_test, on=\"ID\")\n",
    "\n",
    "# Copied train and test to save the original sets, if we needed to refer them \n",
    "train = train1.copy()\n",
    "test = test1.copy()"
   ]
  },
  {
   "cell_type": "code",
   "execution_count": null,
   "id": "aa918681-f025-45c5-9f51-2b6f756a34e1",
   "metadata": {},
   "outputs": [],
   "source": [
    "dataset = [train,test]\n",
    "for df in dataset:   \n",
    "    df.columns = df.columns.str.lower()    # converted all the column names to lower case (optional)\n",
    "    df.fillna(-999,axis=0,inplace=True)    # filled all null values with the constant -999"
   ]
  },
  {
   "cell_type": "code",
   "execution_count": null,
   "id": "66b2295f-3f3c-45c2-8b79-c100163cfb0a",
   "metadata": {},
   "outputs": [],
   "source": [
    "# Used get_dummies\n",
    "train = pd.get_dummies(train,drop_first=True)\n",
    "test =  pd.get_dummies(test,drop_first=True)\n",
    "\n",
    "# train and test had different number of columns after get_dummies so used reindex\n",
    "test = test.reindex(columns = train.columns, fill_value=-999)\n",
    "test.drop(\"overall_experience\", axis=1, inplace=True)"
   ]
  },
  {
   "cell_type": "code",
   "execution_count": null,
   "id": "831a7b89-92b3-45de-83b7-253ee8769218",
   "metadata": {},
   "outputs": [],
   "source": [
    "# Model building\n",
    "y = train[\"overall_experience\"]\n",
    "X = train.drop([\"id\",\"overall_experience\"], axis=1)\n",
    "\n",
    "X_train, X_test, y_train, y_test = train_test_split(X, y, test_size = 0.3, stratify = y)\n",
    "\n",
    "clf = XGBClassifier(max_depth=21,learning_rate=0.3,subsample=0.8999999999999999,colsample_bytree=0.7999999999999999,colsample_bylevel=0.8999999999999999,\n",
    "                            n_estimators=250)\n",
    "clf.fit(X_train, y_train)\n",
    "y_pred_train = clf.predict(X_train)       # prediction on train set\n",
    "y_pred_test = clf.predict(X_test)         # prediction on test set\n",
    "\n",
    "# printed accuracy for both\n",
    "print(accuracy_score(y_train,y_pred_train),\" -\",accuracy_score(y_test,y_pred_test))"
   ]
  },
  {
   "cell_type": "code",
   "execution_count": null,
   "id": "90dfc17e-c41b-4577-aa79-f35782166811",
   "metadata": {},
   "outputs": [],
   "source": [
    "# predicted the test file and saved the output for submission\n",
    "predictions = clf.predict(test)\n",
    "predictions\n",
    "\n",
    "test2 = pd.DataFrame(zip(id,predictions), columns=[\"ID\",\"Overall_Experience\"])\n",
    "\n",
    "test2.to_csv(\"latest.csv\",index=False)"
   ]
  },
  {
   "cell_type": "markdown",
   "id": "e9c4db8c-4598-4fe6-9724-0a7cc0f315a6",
   "metadata": {},
   "source": [
    "### Tuned the models\n",
    "\n",
    "x_train, x_test, y_train, y_test = train_test_split(X, y, test_size = 0.1)\n",
    "\n",
    "params = {'max_features':[\"None\", \"log2\", \"sqrt\"]}\n",
    "\n",
    "clf = RandomizedSearchCV(estimator=RandomForestClassifier(), param_distributions = params, scoring='accuracy', n_iter=25, n_jobs=-1, verbose=1)\n",
    "\n",
    "clf.fit(x_train, y_train)\n",
    "best_combination = clf.best_params_\n",
    "\n",
    "print(\"Best hyperparameter combination: \", best_combination)"
   ]
  }
 ],
 "metadata": {
  "kernelspec": {
   "display_name": "Python 3 (ipykernel)",
   "language": "python",
   "name": "python3"
  },
  "language_info": {
   "codemirror_mode": {
    "name": "ipython",
    "version": 3
   },
   "file_extension": ".py",
   "mimetype": "text/x-python",
   "name": "python",
   "nbconvert_exporter": "python",
   "pygments_lexer": "ipython3",
   "version": "3.9.13"
  }
 },
 "nbformat": 4,
 "nbformat_minor": 5
}
